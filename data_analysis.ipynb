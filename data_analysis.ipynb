{
 "cells": [
  {
   "cell_type": "markdown",
   "metadata": {},
   "source": [
    "# Analisando os resultados"
   ]
  },
  {
   "cell_type": "code",
   "execution_count": 50,
   "metadata": {},
   "outputs": [],
   "source": [
    "EXPERIMENTS_PATH = '../TCC/experiments'\n",
    "EXPERIMENT_NUMBER = 1\n",
    "import pandas as pd\n",
    "import numpy as np\n",
    "import os"
   ]
  },
  {
   "cell_type": "markdown",
   "metadata": {},
   "source": [
    "### Experimento 1"
   ]
  },
  {
   "cell_type": "markdown",
   "metadata": {},
   "source": [
    "#### Primeiros passos"
   ]
  },
  {
   "cell_type": "code",
   "execution_count": 13,
   "metadata": {},
   "outputs": [
    {
     "data": {
      "text/html": [
       "<div>\n",
       "<style scoped>\n",
       "    .dataframe tbody tr th:only-of-type {\n",
       "        vertical-align: middle;\n",
       "    }\n",
       "\n",
       "    .dataframe tbody tr th {\n",
       "        vertical-align: top;\n",
       "    }\n",
       "\n",
       "    .dataframe thead th {\n",
       "        text-align: right;\n",
       "    }\n",
       "</style>\n",
       "<table border=\"1\" class=\"dataframe\">\n",
       "  <thead>\n",
       "    <tr style=\"text-align: right;\">\n",
       "      <th></th>\n",
       "      <th>id</th>\n",
       "      <th>year</th>\n",
       "      <th>area</th>\n",
       "      <th>sp_area</th>\n",
       "      <th>day</th>\n",
       "      <th>body</th>\n",
       "      <th>alternatives</th>\n",
       "      <th>answer</th>\n",
       "      <th>GPT-3.5-turbo-answers</th>\n",
       "      <th>GEMINI_2023_answers</th>\n",
       "      <th>Llama2_2023_answers</th>\n",
       "      <th>GPT3.5_2023_answers</th>\n",
       "    </tr>\n",
       "  </thead>\n",
       "  <tbody>\n",
       "    <tr>\n",
       "      <th>0</th>\n",
       "      <td>01I</td>\n",
       "      <td>2023</td>\n",
       "      <td>LC - Linguagens e Códigos</td>\n",
       "      <td>Inglês</td>\n",
       "      <td>D1</td>\n",
       "      <td>QUESTÃO 01  \\r\\nNo man is an island,\\r\\nEntire...</td>\n",
       "      <td>\\r\\nA medo da morte.\\r\\nB ideia de conexão.\\r\\...</td>\n",
       "      <td>B</td>\n",
       "      <td>B</td>\n",
       "      <td>B</td>\n",
       "      <td>B</td>\n",
       "      <td>B</td>\n",
       "    </tr>\n",
       "    <tr>\n",
       "      <th>1</th>\n",
       "      <td>02I</td>\n",
       "      <td>2023</td>\n",
       "      <td>LC - Linguagens e Códigos</td>\n",
       "      <td>Inglês</td>\n",
       "      <td>D1</td>\n",
       "      <td>QUESTÃO 02  \\r\\nThings We Carry on the Sea\\r\\n...</td>\n",
       "      <td>\\r\\nA risco de choques culturais.\\r\\nB impacto...</td>\n",
       "      <td>D</td>\n",
       "      <td>D</td>\n",
       "      <td>D</td>\n",
       "      <td>D</td>\n",
       "      <td>D</td>\n",
       "    </tr>\n",
       "    <tr>\n",
       "      <th>2</th>\n",
       "      <td>03I</td>\n",
       "      <td>2023</td>\n",
       "      <td>LC - Linguagens e Códigos</td>\n",
       "      <td>Inglês</td>\n",
       "      <td>D1</td>\n",
       "      <td>QUESTÃO 03  \\r\\nDescrição do cartaz: Foto de p...</td>\n",
       "      <td>\\r\\nA os lixões precisam de ampliação. \\r\\nB o...</td>\n",
       "      <td>B</td>\n",
       "      <td>B</td>\n",
       "      <td>B</td>\n",
       "      <td>B</td>\n",
       "      <td>B</td>\n",
       "    </tr>\n",
       "    <tr>\n",
       "      <th>3</th>\n",
       "      <td>04I</td>\n",
       "      <td>2023</td>\n",
       "      <td>LC - Linguagens e Códigos</td>\n",
       "      <td>Inglês</td>\n",
       "      <td>D1</td>\n",
       "      <td>QUESTÃO 04  \\r\\nDescrição do cartum: Em um esc...</td>\n",
       "      <td>\\r\\nA criticar um padrão de vestimenta.\\r\\nB d...</td>\n",
       "      <td>B</td>\n",
       "      <td>B</td>\n",
       "      <td>B</td>\n",
       "      <td>C</td>\n",
       "      <td>C</td>\n",
       "    </tr>\n",
       "    <tr>\n",
       "      <th>4</th>\n",
       "      <td>05I</td>\n",
       "      <td>2023</td>\n",
       "      <td>LC - Linguagens e Códigos</td>\n",
       "      <td>Inglês</td>\n",
       "      <td>D1</td>\n",
       "      <td>QUESTÃO 05  \\r\\nSpanglish (fragmento)\\r\\nTato ...</td>\n",
       "      <td>\\r\\nA convergência linguístico-cultural.\\r\\nB ...</td>\n",
       "      <td>A</td>\n",
       "      <td>A</td>\n",
       "      <td>A</td>\n",
       "      <td>A</td>\n",
       "      <td>A</td>\n",
       "    </tr>\n",
       "  </tbody>\n",
       "</table>\n",
       "</div>"
      ],
      "text/plain": [
       "    id  year                       area sp_area day  \\\n",
       "0  01I  2023  LC - Linguagens e Códigos  Inglês  D1   \n",
       "1  02I  2023  LC - Linguagens e Códigos  Inglês  D1   \n",
       "2  03I  2023  LC - Linguagens e Códigos  Inglês  D1   \n",
       "3  04I  2023  LC - Linguagens e Códigos  Inglês  D1   \n",
       "4  05I  2023  LC - Linguagens e Códigos  Inglês  D1   \n",
       "\n",
       "                                                body  \\\n",
       "0  QUESTÃO 01  \\r\\nNo man is an island,\\r\\nEntire...   \n",
       "1  QUESTÃO 02  \\r\\nThings We Carry on the Sea\\r\\n...   \n",
       "2  QUESTÃO 03  \\r\\nDescrição do cartaz: Foto de p...   \n",
       "3  QUESTÃO 04  \\r\\nDescrição do cartum: Em um esc...   \n",
       "4  QUESTÃO 05  \\r\\nSpanglish (fragmento)\\r\\nTato ...   \n",
       "\n",
       "                                        alternatives answer  \\\n",
       "0  \\r\\nA medo da morte.\\r\\nB ideia de conexão.\\r\\...      B   \n",
       "1  \\r\\nA risco de choques culturais.\\r\\nB impacto...      D   \n",
       "2  \\r\\nA os lixões precisam de ampliação. \\r\\nB o...      B   \n",
       "3  \\r\\nA criticar um padrão de vestimenta.\\r\\nB d...      B   \n",
       "4  \\r\\nA convergência linguístico-cultural.\\r\\nB ...      A   \n",
       "\n",
       "  GPT-3.5-turbo-answers GEMINI_2023_answers Llama2_2023_answers  \\\n",
       "0                     B                   B                   B   \n",
       "1                     D                   D                   D   \n",
       "2                     B                   B                   B   \n",
       "3                     B                   B                   C   \n",
       "4                     A                   A                   A   \n",
       "\n",
       "  GPT3.5_2023_answers  \n",
       "0                   B  \n",
       "1                   D  \n",
       "2                   B  \n",
       "3                   C  \n",
       "4                   A  "
      ]
     },
     "execution_count": 13,
     "metadata": {},
     "output_type": "execute_result"
    }
   ],
   "source": [
    "YEAR = 2023\n",
    "df = pd.read_csv(f'{EXPERIMENTS_PATH}/{EXPERIMENT_NUMBER}/{YEAR}/enem_2023.csv')\n",
    "df.head()"
   ]
  },
  {
   "cell_type": "code",
   "execution_count": 15,
   "metadata": {},
   "outputs": [
    {
     "data": {
      "text/plain": [
       "GPT_result\n",
       "True     110\n",
       "False     75\n",
       "Name: count, dtype: int64"
      ]
     },
     "execution_count": 15,
     "metadata": {},
     "output_type": "execute_result"
    }
   ],
   "source": [
    "df['GPT_result'] = df['GPT3.5_2023_answers'] == df['answer']\n",
    "df['GPT_result'].value_counts()"
   ]
  },
  {
   "cell_type": "code",
   "execution_count": 14,
   "metadata": {},
   "outputs": [
    {
     "data": {
      "text/plain": [
       "GPT_UI_result\n",
       "True     128\n",
       "False     57\n",
       "Name: count, dtype: int64"
      ]
     },
     "execution_count": 14,
     "metadata": {},
     "output_type": "execute_result"
    }
   ],
   "source": [
    "df['GPT_UI_result'] = df['GPT-3.5-turbo-answers'] == df['answer']\n",
    "df['GPT_UI_result'].value_counts()"
   ]
  },
  {
   "cell_type": "code",
   "execution_count": 21,
   "metadata": {},
   "outputs": [
    {
     "data": {
      "text/plain": [
       "Llama2_result\n",
       "False    95\n",
       "True     90\n",
       "Name: count, dtype: int64"
      ]
     },
     "execution_count": 21,
     "metadata": {},
     "output_type": "execute_result"
    }
   ],
   "source": [
    "df['Llama2_result'] = df['Llama2_2023_answers'] == df['answer']\n",
    "df['Llama2_result'].value_counts()"
   ]
  },
  {
   "cell_type": "code",
   "execution_count": 9,
   "metadata": {},
   "outputs": [
    {
     "data": {
      "text/plain": [
       "GEMINI_result\n",
       "True     132\n",
       "False     53\n",
       "Name: count, dtype: int64"
      ]
     },
     "execution_count": 9,
     "metadata": {},
     "output_type": "execute_result"
    }
   ],
   "source": [
    "df['GEMINI_result'] = df['GEMINI_2023_answers'] == df['answer']\n",
    "df['GEMINI_result'].value_counts()"
   ]
  },
  {
   "cell_type": "code",
   "execution_count": 16,
   "metadata": {},
   "outputs": [
    {
     "data": {
      "text/plain": [
       "78"
      ]
     },
     "execution_count": 16,
     "metadata": {},
     "output_type": "execute_result"
    }
   ],
   "source": [
    "similar_answers = df[(df['Llama2_2023_answers'] == df['GPT-3.5-turbo-answers']) & (df['GPT-3.5-turbo-answers'] == df['GEMINI_2023_answers'])]\n",
    "len(similar_answers)"
   ]
  },
  {
   "cell_type": "code",
   "execution_count": 19,
   "metadata": {},
   "outputs": [
    {
     "data": {
      "text/plain": [
       "answer\n",
       "A          46\n",
       "C          38\n",
       "D          37\n",
       "B          34\n",
       "E          29\n",
       "Anulado     1\n",
       "Name: count, dtype: int64"
      ]
     },
     "execution_count": 19,
     "metadata": {},
     "output_type": "execute_result"
    }
   ],
   "source": [
    "df['answer'].value_counts()"
   ]
  },
  {
   "cell_type": "code",
   "execution_count": 18,
   "metadata": {},
   "outputs": [
    {
     "data": {
      "text/plain": [
       "Llama2_2023_answers\n",
       "C    66\n",
       "B    46\n",
       "D    34\n",
       "E    27\n",
       "A    12\n",
       "Name: count, dtype: int64"
      ]
     },
     "execution_count": 18,
     "metadata": {},
     "output_type": "execute_result"
    }
   ],
   "source": [
    "df.Llama2_2023_answers.value_counts()"
   ]
  },
  {
   "cell_type": "code",
   "execution_count": 30,
   "metadata": {},
   "outputs": [
    {
     "data": {
      "text/plain": [
       "Llama2_2023_answers\n",
       "C    27\n",
       "B    20\n",
       "D    19\n",
       "A    12\n",
       "E    12\n",
       "Name: count, dtype: int64"
      ]
     },
     "metadata": {},
     "output_type": "display_data"
    }
   ],
   "source": [
    "display(df.query('Llama2_result == True ')['Llama2_2023_answers'].value_counts())"
   ]
  },
  {
   "cell_type": "markdown",
   "metadata": {},
   "source": [
    "#### Análise 2018 - 2023"
   ]
  },
  {
   "cell_type": "code",
   "execution_count": 23,
   "metadata": {},
   "outputs": [
    {
     "data": {
      "text/html": [
       "<div>\n",
       "<style scoped>\n",
       "    .dataframe tbody tr th:only-of-type {\n",
       "        vertical-align: middle;\n",
       "    }\n",
       "\n",
       "    .dataframe tbody tr th {\n",
       "        vertical-align: top;\n",
       "    }\n",
       "\n",
       "    .dataframe thead th {\n",
       "        text-align: right;\n",
       "    }\n",
       "</style>\n",
       "<table border=\"1\" class=\"dataframe\">\n",
       "  <thead>\n",
       "    <tr style=\"text-align: right;\">\n",
       "      <th></th>\n",
       "      <th>id</th>\n",
       "      <th>year</th>\n",
       "      <th>area</th>\n",
       "      <th>sp_area</th>\n",
       "      <th>day</th>\n",
       "      <th>body</th>\n",
       "      <th>alternatives</th>\n",
       "      <th>answer</th>\n",
       "      <th>GEMINI_2018_answers</th>\n",
       "      <th>GPT3.5_2018_answers</th>\n",
       "      <th>Llama2_2018_answers</th>\n",
       "    </tr>\n",
       "  </thead>\n",
       "  <tbody>\n",
       "    <tr>\n",
       "      <th>0</th>\n",
       "      <td>01I</td>\n",
       "      <td>2018</td>\n",
       "      <td>LC - Linguagens e Códigos</td>\n",
       "      <td>Inglês</td>\n",
       "      <td>D1</td>\n",
       "      <td>QUESTÃO 01  \\nLava Mae: Creating Showers on Wh...</td>\n",
       "      <td>\\nA empregar moradores de rua em lava a jatos ...</td>\n",
       "      <td>B</td>\n",
       "      <td>B</td>\n",
       "      <td>B</td>\n",
       "      <td>B</td>\n",
       "    </tr>\n",
       "    <tr>\n",
       "      <th>1</th>\n",
       "      <td>02I</td>\n",
       "      <td>2018</td>\n",
       "      <td>LC - Linguagens e Códigos</td>\n",
       "      <td>Inglês</td>\n",
       "      <td>D1</td>\n",
       "      <td>QUESTÃO 02  \\nDescrição do cartum:\\nO cartum a...</td>\n",
       "      <td>\\nA se aposente prematuramente.\\nB amadureça p...</td>\n",
       "      <td>B</td>\n",
       "      <td>B</td>\n",
       "      <td>B</td>\n",
       "      <td>B</td>\n",
       "    </tr>\n",
       "    <tr>\n",
       "      <th>2</th>\n",
       "      <td>03I</td>\n",
       "      <td>2018</td>\n",
       "      <td>LC - Linguagens e Códigos</td>\n",
       "      <td>Inglês</td>\n",
       "      <td>D1</td>\n",
       "      <td>QUESTÃO 03  \\nDon't write in English, they sai...</td>\n",
       "      <td>\\nA usa a língua inglesa com efeito humorístic...</td>\n",
       "      <td>D</td>\n",
       "      <td>D</td>\n",
       "      <td>D</td>\n",
       "      <td>D</td>\n",
       "    </tr>\n",
       "    <tr>\n",
       "      <th>3</th>\n",
       "      <td>04I</td>\n",
       "      <td>2018</td>\n",
       "      <td>LC - Linguagens e Códigos</td>\n",
       "      <td>Inglês</td>\n",
       "      <td>D1</td>\n",
       "      <td>QUESTÃO 04  \\nTEXTO I\\n A Free World-class Edu...</td>\n",
       "      <td>\\nA elogiar o trabalho proposto para a educaçã...</td>\n",
       "      <td>E</td>\n",
       "      <td>E</td>\n",
       "      <td>E</td>\n",
       "      <td>E</td>\n",
       "    </tr>\n",
       "    <tr>\n",
       "      <th>4</th>\n",
       "      <td>05I</td>\n",
       "      <td>2018</td>\n",
       "      <td>LC - Linguagens e Códigos</td>\n",
       "      <td>Inglês</td>\n",
       "      <td>D1</td>\n",
       "      <td>QUESTÃO 05  \\n1984 (excerpt)\\nGeorge Orwell\\n‘...</td>\n",
       "      <td>\\nA boicote a ideais libertários.\\nB veto ao c...</td>\n",
       "      <td>C</td>\n",
       "      <td>C</td>\n",
       "      <td>C</td>\n",
       "      <td>C</td>\n",
       "    </tr>\n",
       "  </tbody>\n",
       "</table>\n",
       "</div>"
      ],
      "text/plain": [
       "    id  year                       area sp_area day  \\\n",
       "0  01I  2018  LC - Linguagens e Códigos  Inglês  D1   \n",
       "1  02I  2018  LC - Linguagens e Códigos  Inglês  D1   \n",
       "2  03I  2018  LC - Linguagens e Códigos  Inglês  D1   \n",
       "3  04I  2018  LC - Linguagens e Códigos  Inglês  D1   \n",
       "4  05I  2018  LC - Linguagens e Códigos  Inglês  D1   \n",
       "\n",
       "                                                body  \\\n",
       "0  QUESTÃO 01  \\nLava Mae: Creating Showers on Wh...   \n",
       "1  QUESTÃO 02  \\nDescrição do cartum:\\nO cartum a...   \n",
       "2  QUESTÃO 03  \\nDon't write in English, they sai...   \n",
       "3  QUESTÃO 04  \\nTEXTO I\\n A Free World-class Edu...   \n",
       "4  QUESTÃO 05  \\n1984 (excerpt)\\nGeorge Orwell\\n‘...   \n",
       "\n",
       "                                        alternatives answer  \\\n",
       "0  \\nA empregar moradores de rua em lava a jatos ...      B   \n",
       "1  \\nA se aposente prematuramente.\\nB amadureça p...      B   \n",
       "2  \\nA usa a língua inglesa com efeito humorístic...      D   \n",
       "3  \\nA elogiar o trabalho proposto para a educaçã...      E   \n",
       "4  \\nA boicote a ideais libertários.\\nB veto ao c...      C   \n",
       "\n",
       "  GEMINI_2018_answers GPT3.5_2018_answers Llama2_2018_answers  \n",
       "0                   B                   B                   B  \n",
       "1                   B                   B                   B  \n",
       "2                   D                   D                   D  \n",
       "3                   E                   E                   E  \n",
       "4                   C                   C                   C  "
      ]
     },
     "metadata": {},
     "output_type": "display_data"
    }
   ],
   "source": [
    "df_2018 = pd.read_csv(f'{EXPERIMENTS_PATH}/{EXPERIMENT_NUMBER}/2018/enem_2018.csv')\n",
    "display(df_2018.head())\n",
    "df_2019 = pd.read_csv(f'{EXPERIMENTS_PATH}/{EXPERIMENT_NUMBER}/2019/enem_2019.csv')\n",
    "# display(df_2019.head())\n",
    "df_2020 = pd.read_csv(f'{EXPERIMENTS_PATH}/{EXPERIMENT_NUMBER}/2020/enem_2020.csv')\n",
    "# display(df_2020.head())   \n",
    "df_2022 = pd.read_csv(f'{EXPERIMENTS_PATH}/{EXPERIMENT_NUMBER}/2022/enem_2022.csv')\n",
    "# display(df_2022.head())\n",
    "df_2023 = pd.read_csv(f'{EXPERIMENTS_PATH}/{EXPERIMENT_NUMBER}/2023/enem_2023.csv')\n",
    "# display(df_2023.head())   "
   ]
  },
  {
   "cell_type": "code",
   "execution_count": 26,
   "metadata": {},
   "outputs": [],
   "source": [
    "def check_models_answers(df, year):\n",
    "    print(df[f'GEMINI_{year}_answers'].value_counts())\n",
    "    print('Soma das respostas do GEMINI:', df[f'GEMINI_{year}_answers'].value_counts().sum())\n",
    "    print(df[f'GPT3.5_{year}_answers'].value_counts())\n",
    "    print('Soma das respostas do GPT3.5:', df[f'GPT3.5_{year}_answers'].value_counts().sum()) \n",
    "    print(df[f'Llama2_{year}_answers'].value_counts())\n",
    "    print('Soma das respostas do Llama2:', df[f'Llama2_{year}_answers'].value_counts().sum())"
   ]
  },
  {
   "cell_type": "code",
   "execution_count": 48,
   "metadata": {},
   "outputs": [],
   "source": [
    "def check_models_results(df, year):\n",
    "    print(df[f'GEMINI_{year}_answers'].value_counts())\n",
    "    df['GPT_result'] = df[f'GPT3.5_{year}_answers'] == df['answer']\n",
    "    print(df['GPT_result'].value_counts())\n",
    "    df['Llama2_result'] = df[f'Llama2_{year}_answers'] == df['answer']\n",
    "    print(df['Llama2_result'].value_counts())\n",
    "    df['GEMINI_result'] = np.where(df[f'GEMINI_{year}_answers'] == 'No answer', 'No answer', df[f'GEMINI_{year}_answers'] == df['answer'])\n",
    "    print(df['GEMINI_result'].value_counts())\n"
   ]
  },
  {
   "cell_type": "code",
   "execution_count": 54,
   "metadata": {},
   "outputs": [
    {
     "name": "stdout",
     "output_type": "stream",
     "text": [
      "GEMINI_2018_answers\n",
      "B            43\n",
      "E            38\n",
      "A            36\n",
      "C            35\n",
      "D            30\n",
      "No answer     3\n",
      "Name: count, dtype: int64\n",
      "Soma das respostas do GEMINI: 185\n",
      "GPT3.5_2018_answers\n",
      "E    46\n",
      "B    42\n",
      "D    41\n",
      "C    36\n",
      "A    20\n",
      "Name: count, dtype: int64\n",
      "Soma das respostas do GPT3.5: 185\n",
      "Llama2_2018_answers\n",
      "C    69\n",
      "B    53\n",
      "E    31\n",
      "D    25\n",
      "A     7\n",
      "Name: count, dtype: int64\n",
      "Soma das respostas do Llama2: 185\n",
      "GEMINI_2018_answers\n",
      "B            43\n",
      "E            38\n",
      "A            36\n",
      "C            35\n",
      "D            30\n",
      "No answer     3\n",
      "Name: count, dtype: int64\n",
      "GPT_result\n",
      "True     96\n",
      "False    89\n",
      "Name: count, dtype: int64\n",
      "Llama2_result\n",
      "False    100\n",
      "True      85\n",
      "Name: count, dtype: int64\n",
      "GEMINI_result\n",
      "True         120\n",
      "False         62\n",
      "No answer      3\n",
      "Name: count, dtype: int64\n"
     ]
    }
   ],
   "source": [
    "check_models_answers(df_2018, df_2018['year'].unique()[0])\n",
    "check_models_results(df_2018, df_2018['year'].unique()[0])"
   ]
  },
  {
   "cell_type": "code",
   "execution_count": 104,
   "metadata": {},
   "outputs": [
    {
     "data": {
      "text/html": [
       "<div>\n",
       "<style scoped>\n",
       "    .dataframe tbody tr th:only-of-type {\n",
       "        vertical-align: middle;\n",
       "    }\n",
       "\n",
       "    .dataframe tbody tr th {\n",
       "        vertical-align: top;\n",
       "    }\n",
       "\n",
       "    .dataframe thead th {\n",
       "        text-align: right;\n",
       "    }\n",
       "</style>\n",
       "<table border=\"1\" class=\"dataframe\">\n",
       "  <thead>\n",
       "    <tr style=\"text-align: right;\">\n",
       "      <th>GEMINI_result</th>\n",
       "      <th>True</th>\n",
       "      <th>False</th>\n",
       "      <th>No answer</th>\n",
       "    </tr>\n",
       "  </thead>\n",
       "  <tbody>\n",
       "    <tr>\n",
       "      <th>count</th>\n",
       "      <td>120</td>\n",
       "      <td>62</td>\n",
       "      <td>3</td>\n",
       "    </tr>\n",
       "  </tbody>\n",
       "</table>\n",
       "</div>"
      ],
      "text/plain": [
       "GEMINI_result  True  False  No answer\n",
       "count           120     62          3"
      ]
     },
     "metadata": {},
     "output_type": "display_data"
    }
   ],
   "source": [
    "result_counts = df_2018['GEMINI_result'].value_counts()\n",
    "# result_counts.columns = ['GEMINI_result', df_2018['year'].unique()[0]]\n",
    "# print(result_counts)\n",
    "result_counts_total_df = pd.DataFrame(result_counts).transpose()\n",
    "\n",
    "display(result_counts_total_df)"
   ]
  },
  {
   "cell_type": "code",
   "execution_count": null,
   "metadata": {},
   "outputs": [],
   "source": []
  },
  {
   "cell_type": "markdown",
   "metadata": {},
   "source": [
    "### Experimento 2"
   ]
  },
  {
   "cell_type": "code",
   "execution_count": 31,
   "metadata": {},
   "outputs": [
    {
     "data": {
      "text/html": [
       "<div>\n",
       "<style scoped>\n",
       "    .dataframe tbody tr th:only-of-type {\n",
       "        vertical-align: middle;\n",
       "    }\n",
       "\n",
       "    .dataframe tbody tr th {\n",
       "        vertical-align: top;\n",
       "    }\n",
       "\n",
       "    .dataframe thead th {\n",
       "        text-align: right;\n",
       "    }\n",
       "</style>\n",
       "<table border=\"1\" class=\"dataframe\">\n",
       "  <thead>\n",
       "    <tr style=\"text-align: right;\">\n",
       "      <th></th>\n",
       "      <th>id</th>\n",
       "      <th>year</th>\n",
       "      <th>area</th>\n",
       "      <th>sp_area</th>\n",
       "      <th>day</th>\n",
       "      <th>body</th>\n",
       "      <th>alternatives</th>\n",
       "      <th>answer</th>\n",
       "      <th>GPT3.5_2023_answers</th>\n",
       "    </tr>\n",
       "  </thead>\n",
       "  <tbody>\n",
       "    <tr>\n",
       "      <th>0</th>\n",
       "      <td>01I</td>\n",
       "      <td>2023</td>\n",
       "      <td>LC - Linguagens e Códigos</td>\n",
       "      <td>Inglês</td>\n",
       "      <td>D1</td>\n",
       "      <td>QUESTÃO 01  \\nNo man is an island,\\nEntire of ...</td>\n",
       "      <td>\\nA medo da morte.\\nB ideia de conexão.\\nC con...</td>\n",
       "      <td>B</td>\n",
       "      <td>B</td>\n",
       "    </tr>\n",
       "    <tr>\n",
       "      <th>1</th>\n",
       "      <td>02I</td>\n",
       "      <td>2023</td>\n",
       "      <td>LC - Linguagens e Códigos</td>\n",
       "      <td>Inglês</td>\n",
       "      <td>D1</td>\n",
       "      <td>QUESTÃO 02  \\nThings We Carry on the Sea\\nWe c...</td>\n",
       "      <td>\\nA risco de choques culturais.\\nB impacto do ...</td>\n",
       "      <td>D</td>\n",
       "      <td>D</td>\n",
       "    </tr>\n",
       "    <tr>\n",
       "      <th>2</th>\n",
       "      <td>03I</td>\n",
       "      <td>2023</td>\n",
       "      <td>LC - Linguagens e Códigos</td>\n",
       "      <td>Inglês</td>\n",
       "      <td>D1</td>\n",
       "      <td>QUESTÃO 03  \\nDescrição do cartaz: Foto de par...</td>\n",
       "      <td>\\nA os lixões precisam de ampliação. \\nB o des...</td>\n",
       "      <td>B</td>\n",
       "      <td>B</td>\n",
       "    </tr>\n",
       "    <tr>\n",
       "      <th>3</th>\n",
       "      <td>04I</td>\n",
       "      <td>2023</td>\n",
       "      <td>LC - Linguagens e Códigos</td>\n",
       "      <td>Inglês</td>\n",
       "      <td>D1</td>\n",
       "      <td>QUESTÃO 04  \\nDescrição do cartum: Em um escri...</td>\n",
       "      <td>\\nA criticar um padrão de vestimenta.\\nB desta...</td>\n",
       "      <td>B</td>\n",
       "      <td>D</td>\n",
       "    </tr>\n",
       "    <tr>\n",
       "      <th>4</th>\n",
       "      <td>05I</td>\n",
       "      <td>2023</td>\n",
       "      <td>LC - Linguagens e Códigos</td>\n",
       "      <td>Inglês</td>\n",
       "      <td>D1</td>\n",
       "      <td>QUESTÃO 05  \\nSpanglish (fragmento)\\nTato Lavi...</td>\n",
       "      <td>\\nA convergência linguístico-cultural.\\nB cara...</td>\n",
       "      <td>A</td>\n",
       "      <td>A</td>\n",
       "    </tr>\n",
       "  </tbody>\n",
       "</table>\n",
       "</div>"
      ],
      "text/plain": [
       "    id  year                       area sp_area day  \\\n",
       "0  01I  2023  LC - Linguagens e Códigos  Inglês  D1   \n",
       "1  02I  2023  LC - Linguagens e Códigos  Inglês  D1   \n",
       "2  03I  2023  LC - Linguagens e Códigos  Inglês  D1   \n",
       "3  04I  2023  LC - Linguagens e Códigos  Inglês  D1   \n",
       "4  05I  2023  LC - Linguagens e Códigos  Inglês  D1   \n",
       "\n",
       "                                                body  \\\n",
       "0  QUESTÃO 01  \\nNo man is an island,\\nEntire of ...   \n",
       "1  QUESTÃO 02  \\nThings We Carry on the Sea\\nWe c...   \n",
       "2  QUESTÃO 03  \\nDescrição do cartaz: Foto de par...   \n",
       "3  QUESTÃO 04  \\nDescrição do cartum: Em um escri...   \n",
       "4  QUESTÃO 05  \\nSpanglish (fragmento)\\nTato Lavi...   \n",
       "\n",
       "                                        alternatives answer  \\\n",
       "0  \\nA medo da morte.\\nB ideia de conexão.\\nC con...      B   \n",
       "1  \\nA risco de choques culturais.\\nB impacto do ...      D   \n",
       "2  \\nA os lixões precisam de ampliação. \\nB o des...      B   \n",
       "3  \\nA criticar um padrão de vestimenta.\\nB desta...      B   \n",
       "4  \\nA convergência linguístico-cultural.\\nB cara...      A   \n",
       "\n",
       "  GPT3.5_2023_answers  \n",
       "0                   B  \n",
       "1                   D  \n",
       "2                   B  \n",
       "3                   D  \n",
       "4                   A  "
      ]
     },
     "execution_count": 31,
     "metadata": {},
     "output_type": "execute_result"
    }
   ],
   "source": [
    "df = pd.read_csv(f'{EXPERIMENTS_PATH}/{2}/{YEAR}/enem_2023.csv')\n",
    "df.head()"
   ]
  },
  {
   "cell_type": "code",
   "execution_count": 32,
   "metadata": {},
   "outputs": [
    {
     "data": {
      "text/plain": [
       "GPT_result\n",
       "True     113\n",
       "False     72\n",
       "Name: count, dtype: int64"
      ]
     },
     "execution_count": 32,
     "metadata": {},
     "output_type": "execute_result"
    }
   ],
   "source": [
    "df['GPT_result'] = df['GPT3.5_2023_answers'] == df['answer']\n",
    "df['GPT_result'].value_counts()"
   ]
  }
 ],
 "metadata": {
  "kernelspec": {
   "display_name": "venv",
   "language": "python",
   "name": "python3"
  },
  "language_info": {
   "codemirror_mode": {
    "name": "ipython",
    "version": 3
   },
   "file_extension": ".py",
   "mimetype": "text/x-python",
   "name": "python",
   "nbconvert_exporter": "python",
   "pygments_lexer": "ipython3",
   "version": "3.11.4"
  }
 },
 "nbformat": 4,
 "nbformat_minor": 2
}
