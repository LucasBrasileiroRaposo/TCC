{
 "cells": [
  {
   "cell_type": "markdown",
   "metadata": {},
   "source": [
    "# TCC"
   ]
  },
  {
   "cell_type": "code",
   "execution_count": 38,
   "metadata": {},
   "outputs": [],
   "source": [
    "import pandas as pd\n",
    "import os as os\n",
    "import PyPDF2\n",
    "import fitz\n",
    "\n",
    "import re"
   ]
  },
  {
   "cell_type": "markdown",
   "metadata": {},
   "source": [
    "## Mapeando questões das provas"
   ]
  },
  {
   "cell_type": "code",
   "execution_count": 42,
   "metadata": {},
   "outputs": [],
   "source": [
    "def map_questions(exam_string):    \n",
    "    \n",
    "    # Regex para o split usando \"questão\", espaço em branco e número (case-insensitive)\n",
    "    pattern = re.compile(r'questão\\s+\\d+', re.IGNORECASE)\n",
    "    result = pattern.split(exam_string)\n",
    "    \n",
    "    # Remover strings vazias do resultado\n",
    "    return [item.strip() for item in result if item.strip()]"
   ]
  },
  {
   "cell_type": "code",
   "execution_count": 205,
   "metadata": {},
   "outputs": [],
   "source": [
    "def separate_question(question):\n",
    "        \n",
    "    # Expressão regular para encontrar o corpo e as alternativas\n",
    "    # pattern = re.compile(r'(\\nA\\s.*?\\nB\\s.*?\\nC\\s.*?\\nD\\s.*?\\nE\\s.*?\\.)', question, re.DOTALL)\n",
    "    # print(pattern)\n",
    "    # print(pattern.findall(question))\n",
    "\n",
    "    # Encontrar a correspondência na string\n",
    "    alternatives_regex = r'\\nA\\s.*?\\nB\\s.*?\\nC\\s.*?\\nD\\s.*?\\nE\\s.*?\\.'\n",
    "    body = re.search(f'^(.*?)(?={alternatives_regex})', question, re.DOTALL).group(1)\n",
    "    alternatives = re.search(f'({alternatives_regex})', question, re.DOTALL).group(1)    \n",
    "    \n",
    "    return ({'body': body, 'alternatives':  alternatives})\n"
   ]
  },
  {
   "cell_type": "code",
   "execution_count": 206,
   "metadata": {},
   "outputs": [
    {
     "name": "stdout",
     "output_type": "stream",
     "text": [
      "{'body': 'O termo agronegócio não se refere apenas à agricultura \\ne à pecuária, pois as atividades ligadas a essa produção \\nincluem fornecedores de equipamentos, serviços para a \\nzona rural, industrialização e comercialização dos produtos.\\nOs dados seguintes refletem a participação percentual \\ndo agronegócio no PIB brasileiro entre os anos de 1998 \\ne 2008:\\n• \\n1998: 21,33%;\\n• \\n1999: 22,24%;\\n• \\n2000: 22,87%;\\n• \\n2001: 23,26%;\\n• \\n2002: 25,31%;\\n• \\n2003: 28,28%;\\n• \\n2004: 27,79%;\\n• \\n2005: 25,83%;\\n• \\n2006: 23,92%;\\n• \\n2007: 24,74%;\\n• \\n2008: 26,46%.\\nEsses dados foram citados em uma palestra na \\nqual o orador ressaltou uma queda da participação do \\nagronegócio no PIB brasileiro e a posterior recuperação \\ndessa participação, em termos percentuais.\\nDe acordo com essas informações, o período de queda \\nocorreu entre os anos de ', 'alternatives': '\\nA 1998 e 2001.\\nB 2001 e 2003.\\nC 2003 e 2006.\\nD 2003 e 2007.\\nE 2003 e 2008.'}\n"
     ]
    }
   ],
   "source": [
    "testando_regex = \"\"\"O termo agronegócio não se refere apenas à agricultura \n",
    "e à pecuária, pois as atividades ligadas a essa produção \n",
    "incluem fornecedores de equipamentos, serviços para a \n",
    "zona rural, industrialização e comercialização dos produtos.\n",
    "Os dados seguintes refletem a participação percentual \n",
    "do agronegócio no PIB brasileiro entre os anos de 1998 \n",
    "e 2008:\n",
    "• \n",
    "1998: 21,33%;\n",
    "• \n",
    "1999: 22,24%;\n",
    "• \n",
    "2000: 22,87%;\n",
    "• \n",
    "2001: 23,26%;\n",
    "• \n",
    "2002: 25,31%;\n",
    "• \n",
    "2003: 28,28%;\n",
    "• \n",
    "2004: 27,79%;\n",
    "• \n",
    "2005: 25,83%;\n",
    "• \n",
    "2006: 23,92%;\n",
    "• \n",
    "2007: 24,74%;\n",
    "• \n",
    "2008: 26,46%.\n",
    "Esses dados foram citados em uma palestra na \n",
    "qual o orador ressaltou uma queda da participação do \n",
    "agronegócio no PIB brasileiro e a posterior recuperação \n",
    "dessa participação, em termos percentuais.\n",
    "De acordo com essas informações, o período de queda \n",
    "ocorreu entre os anos de \n",
    "A 1998 e 2001.\n",
    "B 2001 e 2003.\n",
    "C 2003 e 2006.\n",
    "D 2003 e 2007.\n",
    "E 2003 e 2008.\"\"\"\n",
    "\n",
    "print(separate_question(testando_regex))"
   ]
  },
  {
   "cell_type": "markdown",
   "metadata": {},
   "source": [
    "### Convertendo PDF em string"
   ]
  },
  {
   "cell_type": "code",
   "execution_count": null,
   "metadata": {},
   "outputs": [],
   "source": [
    " \n",
    "doc = fitz.open('../TCC/pdfs/2011/2011_D2_CD6_cinza.pdf') \n",
    "text = \"\" \n",
    "splitter = \"\"\n",
    "for page in doc: \n",
    "    if (\"\\nQuESTÃO\" in page.get_text()):\n",
    "        text+=page.get_text() \n",
    "    elif (\"\\nQUESTÃO\" in page.get_text()):\n",
    "        text+=page.get_text() \n",
    "    elif (\"Questão\" in page.get_text()):\n",
    "        text+=page.get_text()     \n",
    "        \n",
    "teste = map_questions(text)\n",
    "\n",
    "print(len(teste))\n",
    "for i in range(len(teste)):\n",
    "    print(teste[i])\n",
    "    print(\"-------------------------------------------------\")\n",
    "    print(\"Questão separada\")\n",
    "    print(\"-------------------------------------------------\")\n",
    "    print(separate_question(teste[i]))\n",
    "    print(\"-------------------------------------------------\")\n",
    "    print(\"-------------------------------------------------\")\n",
    "\n",
    "# string_teste = \"Going to university seems to reduce the risk of dying from coronary heart disease. An American study that involved 10 000 patients from around the world has found that people who leave school before the age of 16 are five times more likely to suffer a heart attack and die than university graduates. Em relação às pesquisas, a utilização da expressão university graduates evidencia a intenção de informar que A as doenças do coração  atacam dez mil pacientes. B as doenças do coração ocorrem na faixa dos dezesseis anos. C as pesquisas sobre doenças são divulgadas no meio acadêmico. D jovens americanos são alertados dos riscos de doenças do coração. E maior nível de estudo reduz riscos de ataques do coração.\"\n",
    "# print(separate_question(string_teste))"
   ]
  },
  {
   "cell_type": "code",
   "execution_count": 221,
   "metadata": {},
   "outputs": [],
   "source": [
    "PATH = \"../TCC/test_txt_files\"\n",
    "years = os.listdir(f'{PATH}')\n",
    "for year in years:\n",
    "    \n",
    "    exams = os.listdir(f'{PATH}/{year}')\n",
    "    all_questions_edition = ''\n",
    "    for test in exams:\n",
    "\n",
    "        text = \"\" \n",
    "        if( \"_D2_\" in test):\n",
    "            text += \"\\n------D2------\\n\"\n",
    "                \n",
    "        doc = fitz.open(f'{PATH}/{year}/{test}') \n",
    "        \n",
    "        for page in doc: \n",
    "            if (\"\\nQuESTÃO\" in page.get_text()):\n",
    "                text += page.get_text() \n",
    "            elif (\"\\nQUESTÃO\" in page.get_text()):\n",
    "                text += page.get_text() \n",
    "            elif (\"Questão\" in page.get_text()):\n",
    "                text += page.get_text()         \n",
    "        all_questions_edition += text\n",
    "       \n",
    "    with open(f'{PATH}/{year}/prova{year}.txt', 'w', encoding='utf-8') as exam_str:\n",
    "        exam_str.write(all_questions_edition)\n",
    "        \n",
    "    break\n"
   ]
  },
  {
   "cell_type": "markdown",
   "metadata": {},
   "source": [
    "### Lendo os arquivos com os textos das provas e mapeando as questões em um Dataframe"
   ]
  },
  {
   "cell_type": "code",
   "execution_count": null,
   "metadata": {},
   "outputs": [],
   "source": [
    "def agg_question_info(question, year,number):\n",
    "    \n",
    "    if(int(year) > 2017):\n",
    "        if(number <= 45):\n",
    "            area = ''\n",
    "        elif(number > 45 and number <= 90):\n",
    "            area = ''\n",
    "        elif(number > 90 and number <= 135):\n",
    "            area = ''\n",
    "        elif(number > 135 and number <= 180):\n",
    "            area = ''\n",
    "    else:\n",
    "        if(number <= 45):\n",
    "            area = ''\n",
    "        elif(number > 45 and number <= 90):\n",
    "            area = ''\n",
    "        elif(number > 90 and number <= 135):\n",
    "            area = ''\n",
    "        elif(number > 135 and number <= 180):\n",
    "            area = ''\n",
    "        \n",
    "    return pd.Series()"
   ]
  },
  {
   "cell_type": "code",
   "execution_count": null,
   "metadata": {},
   "outputs": [],
   "source": [
    "enem_questions = pd.DataFrame(columns=['id','year','area','body','itens','result','answer'])\n",
    "\n",
    "for year in years:\n",
    "    \n",
    "    test = os.listdir(f'{PATH}/{year}')\n",
    "\n",
    "    with open(f'{PATH}/{year}/prova{year}.txt', 'r', encoding='utf-8') as exam_str:\n",
    "        \n",
    "        exam_string = exam_str.read()\n",
    "        questions = map_questions(exam_string)\n",
    "        counter = 0\n",
    "        for question in questions:\n",
    "            # separar corpo e alternativas\n",
    "            counter += 1\n",
    "            question_obj = separate_question(question)\n",
    "            \n",
    "            question_info = agg_question_info(question_obj, year, counter)\n",
    "            \n",
    "            enem_questions = enem_questions.append(question_info, ignore_index=True)\n",
    "            # enem_questions = pd.DataFrame.concat([enem_questions, question_info], ignore_index=True)\n",
    "    \n",
    "    enem_questions.to_csv(f'{PATH}/csvs/enem_{year}_questions.csv', index=False)\n",
    "    \n",
    "            # print(\"-------------------------------------------------\")\n",
    "            # print(\"-------------------------------------------------\")\n",
    "            # print(\"-------------------------------------------------\")\n",
    "            \n"
   ]
  }
 ],
 "metadata": {
  "kernelspec": {
   "display_name": "venv",
   "language": "python",
   "name": "python3"
  },
  "language_info": {
   "codemirror_mode": {
    "name": "ipython",
    "version": 3
   },
   "file_extension": ".py",
   "mimetype": "text/x-python",
   "name": "python",
   "nbconvert_exporter": "python",
   "pygments_lexer": "ipython3",
   "version": "3.11.4"
  }
 },
 "nbformat": 4,
 "nbformat_minor": 2
}
