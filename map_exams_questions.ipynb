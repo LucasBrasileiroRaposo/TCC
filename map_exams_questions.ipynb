{
 "cells": [
  {
   "cell_type": "markdown",
   "metadata": {},
   "source": [
    "# TCC"
   ]
  },
  {
   "cell_type": "code",
   "execution_count": 12,
   "metadata": {},
   "outputs": [],
   "source": [
    "import pandas as pd\n",
    "import os as os\n",
    "import PyPDF2"
   ]
  },
  {
   "cell_type": "markdown",
   "metadata": {},
   "source": [
    "## Mapeando questões das provas"
   ]
  },
  {
   "cell_type": "code",
   "execution_count": 15,
   "metadata": {},
   "outputs": [],
   "source": [
    "enem_questions = pd.DataFrame(columns=['id','year','area','body','itens','result','answer'])\n",
    "\n",
    "\n",
    "arquivos = os.listdir(\"../TCC/pdfs/provasDigitais\")\n",
    "for prova in arquivos:\n",
    "    with open('pdfs/provasDigitais/' + prova, 'rb') as arquivo_pdf:\n",
    "\n",
    "        # Criar objeto leitor do PyPDF2\n",
    "        leitor_pdf = PyPDF2.PdfReader(arquivo_pdf)\n",
    "        identificador = 1\n",
    "\n",
    "        if( \"_D2_\" in nomeArquivo):\n",
    "            identificador = 91\n",
    "\n",
    "        # Loop por todas as páginas do PDF\n",
    "        for num_pagina in range(len(leitor_pdf.pages)):\n",
    "            pagina = leitor_pdf.pages[num_pagina]\n",
    "            # print(pagina.extract_text())\n",
    "\n",
    "            if \"\\nQUESTÃO\" in pagina.extract_text():\n",
    "                if identificador <= 45:\n",
    "                    questoesLinguagens[identificador] = pagina.extract_text().split(\"QUESTÃO %2d \", identificador)[0]\n",
    "                    identificador += 1\n",
    "                elif identificador > 45 and identificador <= 90:\n",
    "                    questoesHumanas[identificador] = pagina.extract_text().split(\"QUESTÃO %2d \", identificador)[0]\n",
    "                    identificador += 1\n",
    "                elif identificador > 90 and identificador <=135:\n",
    "                    questoesNatureza[identificador] = pagina.extract_text().split(\"QUESTÃO %2d \", identificador)[0]\n",
    "                    identificador += 1\n",
    "                elif identificador > 135:\n",
    "                    questoesMatematica[identificador] = pagina.extract_text().split(\"QUESTÃO %2d - Matemática e suas Tecnologias\", identificador)[0]\n",
    "                    identificador += 1\n",
    "\n",
    "            else:\n",
    "                if identificador == 46:\n",
    "                    redacao.append(pagina.extract_text())\n",
    "                elif (identificador-1  in questoesLinguagens) and identificador <= 45:\n",
    "                    questoesLinguagens[identificador-1] += pagina.extract_text()\n",
    "                elif (identificador-1 in questoesHumanas) and identificador > 45 and identificador <= 90:\n",
    "                    questoesHumanas[identificador-1]  += pagina.extract_text()              \n",
    "                elif (identificador-1  in questoesNatureza) and identificador <= 135 and identificador > 90:\n",
    "                    questoesNatureza [identificador-1] += pagina.extract_text()\n",
    "                elif (identificador-1 in questoesMatematica) and identificador > 135 and identificador <= 180:\n",
    "                    questoesMatematica[identificador-1]  += pagina.extract_text()     \n"
   ]
  },
  {
   "cell_type": "code",
   "execution_count": null,
   "metadata": {},
   "outputs": [],
   "source": [
    "def map_questions():\n",
    "    print()"
   ]
  }
 ],
 "metadata": {
  "kernelspec": {
   "display_name": "venv",
   "language": "python",
   "name": "python3"
  },
  "language_info": {
   "codemirror_mode": {
    "name": "ipython",
    "version": 3
   },
   "file_extension": ".py",
   "mimetype": "text/x-python",
   "name": "python",
   "nbconvert_exporter": "python",
   "pygments_lexer": "ipython3",
   "version": "3.11.2"
  }
 },
 "nbformat": 4,
 "nbformat_minor": 2
}
