{
 "cells": [
  {
   "cell_type": "markdown",
   "metadata": {},
   "source": [
    "# Realizando experimento"
   ]
  },
  {
   "cell_type": "markdown",
   "metadata": {},
   "source": [
    "# GPT"
   ]
  },
  {
   "cell_type": "code",
   "execution_count": null,
   "metadata": {},
   "outputs": [],
   "source": [
    "! pip install openai"
   ]
  },
  {
   "cell_type": "markdown",
   "metadata": {},
   "source": [
    "## Submetendo as questões"
   ]
  },
  {
   "cell_type": "code",
   "execution_count": 2,
   "metadata": {},
   "outputs": [],
   "source": [
    "import os\n",
    "import pandas as pd"
   ]
  },
  {
   "cell_type": "code",
   "execution_count": 4,
   "metadata": {},
   "outputs": [],
   "source": [
    "TESTS_PATH = '../TCC/csvs'"
   ]
  },
  {
   "cell_type": "code",
   "execution_count": 10,
   "metadata": {},
   "outputs": [
    {
     "name": "stdout",
     "output_type": "stream",
     "text": [
      "2023\n"
     ]
    }
   ],
   "source": [
    "years = os.listdir(f'{TESTS_PATH}')\n",
    "txt = \"\"\n",
    "for test in [2023]:\n",
    "    print(test)\n",
    "    test_df = pd.read_csv(f'{TESTS_PATH}/enem_{test}_questions.csv')\n",
    "\n",
    "    for questions in range(test_df.shape[0]): \n",
    "        txt += f\"\\nusando esse enunciado:\\n {test_df.loc[questions]['body']} \\n escolha entre as opções abaixo a que acredite ser a resposta correta (indique apenas qual a letra correta, com apenas 1 único caractere de resposta):\\n {test_df.loc[questions]['alternatives']}\"\n",
    "\n",
    "with open('experiment01.txt','w',encoding='utf-8') as f:\n",
    "    f.write(txt)\n"
   ]
  },
  {
   "cell_type": "markdown",
   "metadata": {},
   "source": [
    "### Mapeando os gabaritos retornados dos modelos UI"
   ]
  },
  {
   "cell_type": "code",
   "execution_count": 9,
   "metadata": {},
   "outputs": [],
   "source": [
    "import os\n",
    "import pandas as pd\n",
    "CSV_PATH = \"../TCC/csvs\"\n",
    "EXPERIMENTS_PATH = '../TCC/experiments'\n"
   ]
  },
  {
   "cell_type": "code",
   "execution_count": 1,
   "metadata": {},
   "outputs": [],
   "source": [
    "def map_answers(answers_key_txt):\n",
    "    answers_key_lines = answers_key_txt.split('\\n')\n",
    "    \n",
    "    keys = []\n",
    "    for e in answers_key_lines:\n",
    "        if(e and len(e.strip()) <= 3) or (e.strip() == \"Anulado\"):\n",
    "            keys.append(e.strip())\n",
    "            \n",
    "\n",
    "    answers_map = {}\n",
    "    right_answers = []\n",
    "    keys.reverse()\n",
    "        \n",
    "    for item in keys:\n",
    "        if(item.isnumeric()):\n",
    "            if (int(item) < 10):\n",
    "                item = '0' + item\n",
    "            if(len(right_answers) > 1):\n",
    "                right_answers.reverse()\n",
    "                answers_map[item + \"I\"] = right_answers[0]\n",
    "                answers_map[item + \"E\"] = right_answers[1]   \n",
    "                right_answers = []\n",
    "                continue\n",
    "            answers_map[item] = right_answers[0] if len(right_answers) > 0 else 'Anulado'\n",
    "            right_answers = []\n",
    "        else:\n",
    "            if(item == \"Anulado\"):\n",
    "                right_answers.append(item)\n",
    "            elif(item != ' ' and item != '' and item.isalpha()):\n",
    "                right_answers.append(item)\n",
    "            else:\n",
    "                continue\n",
    "    \n",
    "             \n",
    "    # Exibindo o resultado\n",
    "    return answers_map"
   ]
  },
  {
   "cell_type": "code",
   "execution_count": 7,
   "metadata": {},
   "outputs": [],
   "source": [
    "def aggregate_models_answers(answers_map, year, experiment_name):\n",
    "    df = pd.read_csv(f'{CSV_PATH}/enem_{year}_questions.csv')\n",
    "    df[experiment_name] = df['id'].map(answers_map)\n",
    "    print(len(answers_map))\n",
    "    print(answers_map)\n",
    "    return df"
   ]
  },
  {
   "cell_type": "code",
   "execution_count": 12,
   "metadata": {},
   "outputs": [
    {
     "name": "stdout",
     "output_type": "stream",
     "text": [
      "185\n",
      "{'180': 'E', '179': 'C', '178': 'C', '177': 'A', '176': 'B', '175': 'D', '174': 'D', '173': 'E', '172': 'D', '171': 'C', '170': 'C', '169': 'B', '168': 'C', '167': 'C', '166': 'D', '165': 'C', '164': 'A', '163': 'E', '162': 'D', '161': 'D', '160': 'D', '159': 'B', '158': 'B', '157': 'D', '156': 'D', '155': 'E', '154': 'A', '153': 'A', '152': 'E', '151': 'C', '150': 'B', '149': 'C', '148': 'B', '147': 'B', '146': 'B', '145': 'E', '144': 'A', '143': 'B', '142': 'D', '141': 'C', '140': 'B', '139': 'B', '138': 'A', '137': 'B', '136': 'C', '135': 'D', '134': 'B', '133': 'A', '132': 'E', '131': 'B', '130': 'D', '129': 'A', '128': 'D', '127': 'B', '126': 'A', '125': 'B', '124': 'B', '123': 'D', '122': 'A', '121': 'A', '120': 'B', '119': 'D', '118': 'E', '117': 'C', '116': 'A', '115': 'B', '114': 'E', '113': 'D', '112': 'B', '111': 'B', '110': 'B', '109': 'C', '108': 'C', '107': 'C', '106': 'E', '105': 'E', '104': 'E', '103': 'B', '102': 'E', '101': 'C', '100': 'C', '99': 'E', '98': 'E', '97': 'D', '96': 'E', '95': 'E', '94': 'D', '93': 'D', '92': 'B', '91': 'C', '90': 'E', '89': 'D', '88': 'B', '87': 'A', '86': 'D', '85': 'C', '84': 'D', '83': 'A', '82': 'B', '81': 'E', '80': 'C', '79': 'E', '78': 'C', '77': 'B', '76': 'E', '75': 'A', '74': 'B', '73': 'E', '72': 'E', '71': 'A', '70': 'B', '69': 'A', '68': 'E', '67': 'B', '66': 'D', '65': 'A', '64': 'B', '63': 'A', '62': 'C', '61': 'E', '60': 'E', '59': 'C', '58': 'A', '57': 'E', '56': 'A', '55': 'D', '54': 'C', '53': 'A', '52': 'D', '51': 'B', '50': 'C', '49': 'D', '48': 'C', '47': 'B', '46': 'A', '45': 'C', '44': 'C', '43': 'C', '42': 'C', '41': 'D', '40': 'D', '39': 'E', '38': 'A', '37': 'B', '36': 'B', '35': 'B', '34': 'D', '33': 'A', '32': 'D', '31': 'E', '30': 'D', '29': 'D', '28': 'C', '27': 'C', '26': 'C', '25': 'A', '24': 'D', '23': 'B', '22': 'E', '21': 'A', '20': 'B', '19': 'D', '18': 'A', '17': 'B', '16': 'A', '15': 'C', '14': 'A', '13': 'A', '12': 'E', '11': 'B', '10': 'B', '09': 'C', '08': 'E', '07': 'A', '06': 'A', '05I': 'A', '05E': 'E', '04I': 'B', '04E': 'C', '03I': 'B', '03E': 'A', '02I': 'D', '02E': 'A', '01I': 'B', '01E': 'B'}\n"
     ]
    }
   ],
   "source": [
    "years = os.listdir(f'{EXPERIMENTS_PATH}')\n",
    "for year in years:\n",
    "    \n",
    "    experiments = os.listdir(f'{EXPERIMENTS_PATH}/{year}')\n",
    "    \n",
    "    for experiment in experiments:\n",
    "        \n",
    "        experiment_name = experiment.split('.txt')[0]\n",
    "        \n",
    "        with open(f'{EXPERIMENTS_PATH}/{year}/{experiment}', 'r', encoding='utf-8') as exam_str:\n",
    "            content = exam_str.read()\n",
    "            answers_map = map_answers(content)\n",
    "            df_with_answers = aggregate_models_answers(answers_map, year,experiment_name)\n",
    "            # display(df_with_answers)\n",
    "            df_with_answers.to_csv(f'{EXPERIMENTS_PATH}/{year}/enem_{year}.csv', index=False)\n"
   ]
  }
 ],
 "metadata": {
  "kernelspec": {
   "display_name": "venv",
   "language": "python",
   "name": "python3"
  },
  "language_info": {
   "codemirror_mode": {
    "name": "ipython",
    "version": 3
   },
   "file_extension": ".py",
   "mimetype": "text/x-python",
   "name": "python",
   "nbconvert_exporter": "python",
   "pygments_lexer": "ipython3",
   "version": "3.11.2"
  }
 },
 "nbformat": 4,
 "nbformat_minor": 2
}
