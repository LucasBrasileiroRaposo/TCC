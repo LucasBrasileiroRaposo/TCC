{
 "cells": [
  {
   "cell_type": "code",
   "execution_count": 22,
   "metadata": {},
   "outputs": [
    {
     "name": "stdout",
     "output_type": "stream",
     "text": [
      "Requirement already satisfied: llamaapi in c:\\users\\eulal\\ideaprojects\\tcc\\venv\\lib\\site-packages (0.1.36)"
     ]
    },
    {
     "name": "stderr",
     "output_type": "stream",
     "text": [
      "WARNING: Ignoring invalid distribution ~ronpdf (C:\\Users\\eulal\\IdeaProjects\\TCC\\venv\\Lib\\site-packages)\n",
      "WARNING: Ignoring invalid distribution ~ronpdf (C:\\Users\\eulal\\IdeaProjects\\TCC\\venv\\Lib\\site-packages)\n"
     ]
    },
    {
     "name": "stdout",
     "output_type": "stream",
     "text": [
      "\n",
      "Requirement already satisfied: aiohttp<4.0.0,>=3.8.5 in c:\\users\\eulal\\ideaprojects\\tcc\\venv\\lib\\site-packages (from llamaapi) (3.9.3)\n",
      "Requirement already satisfied: nest-asyncio<2.0.0,>=1.5.6 in c:\\users\\eulal\\ideaprojects\\tcc\\venv\\lib\\site-packages (from llamaapi) (1.5.8)\n",
      "Requirement already satisfied: requests<3.0.0,>=2.27.1 in c:\\users\\eulal\\ideaprojects\\tcc\\venv\\lib\\site-packages (from llamaapi) (2.31.0)\n",
      "Requirement already satisfied: aiosignal>=1.1.2 in c:\\users\\eulal\\ideaprojects\\tcc\\venv\\lib\\site-packages (from aiohttp<4.0.0,>=3.8.5->llamaapi) (1.3.1)\n",
      "Requirement already satisfied: attrs>=17.3.0 in c:\\users\\eulal\\ideaprojects\\tcc\\venv\\lib\\site-packages (from aiohttp<4.0.0,>=3.8.5->llamaapi) (23.2.0)\n",
      "Requirement already satisfied: frozenlist>=1.1.1 in c:\\users\\eulal\\ideaprojects\\tcc\\venv\\lib\\site-packages (from aiohttp<4.0.0,>=3.8.5->llamaapi) (1.4.1)\n",
      "Requirement already satisfied: multidict<7.0,>=4.5 in c:\\users\\eulal\\ideaprojects\\tcc\\venv\\lib\\site-packages (from aiohttp<4.0.0,>=3.8.5->llamaapi) (6.0.5)\n",
      "Requirement already satisfied: yarl<2.0,>=1.0 in c:\\users\\eulal\\ideaprojects\\tcc\\venv\\lib\\site-packages (from aiohttp<4.0.0,>=3.8.5->llamaapi) (1.9.4)\n",
      "Requirement already satisfied: charset-normalizer<4,>=2 in c:\\users\\eulal\\ideaprojects\\tcc\\venv\\lib\\site-packages (from requests<3.0.0,>=2.27.1->llamaapi) (3.3.2)\n",
      "Requirement already satisfied: idna<4,>=2.5 in c:\\users\\eulal\\ideaprojects\\tcc\\venv\\lib\\site-packages (from requests<3.0.0,>=2.27.1->llamaapi) (3.6)\n",
      "Requirement already satisfied: urllib3<3,>=1.21.1 in c:\\users\\eulal\\ideaprojects\\tcc\\venv\\lib\\site-packages (from requests<3.0.0,>=2.27.1->llamaapi) (2.2.1)\n",
      "Requirement already satisfied: certifi>=2017.4.17 in c:\\users\\eulal\\ideaprojects\\tcc\\venv\\lib\\site-packages (from requests<3.0.0,>=2.27.1->llamaapi) (2024.2.2)\n"
     ]
    }
   ],
   "source": [
    "! pip install llamaapi"
   ]
  },
  {
   "cell_type": "code",
   "execution_count": 23,
   "metadata": {},
   "outputs": [
    {
     "name": "stdout",
     "output_type": "stream",
     "text": [
      "{\n",
      "  \"created\": 1709754600,\n",
      "  \"model\": \"llama-13b-chat\",\n",
      "  \"usage\": {\n",
      "    \"prompt_tokens\": 184,\n",
      "    \"completion_tokens\": 28,\n",
      "    \"total_tokens\": 212\n",
      "  },\n",
      "  \"choices\": [\n",
      "    {\n",
      "      \"index\": 0,\n",
      "      \"message\": {\n",
      "        \"role\": \"assistant\",\n",
      "        \"content\": null,\n",
      "        \"function_call\": {\n",
      "          \"name\": \"get_current_weather\",\n",
      "          \"arguments\": {\n",
      "            \"location\": \"Boston\",\n",
      "            \"days\": 5,\n",
      "            \"unit\": \"celsius\"\n",
      "          }\n",
      "        }\n",
      "      },\n",
      "      \"finish_reason\": \"function_call\"\n",
      "    }\n",
      "  ]\n",
      "}\n"
     ]
    }
   ],
   "source": [
    "import json\n",
    "from llamaapi import LlamaAPI\n",
    "\n",
    "# Initialize the SDK\n",
    "llama = LlamaAPI(\"LL-8TEmrzbYgkmK420Q2gMNmvzoNL2JhY7rNyp62M0qzqyuUvwfvMTIHVQxJI6TeVn9\")\n",
    "\n",
    "# Build the API request\n",
    "api_request_json = {\n",
    "    \"messages\": [\n",
    "        {\"role\": \"user\", \"content\": \"What is the weather like in Boston?\"},\n",
    "    ],\n",
    "    \"functions\": [\n",
    "        {\n",
    "            \"name\": \"get_current_weather\",\n",
    "            \"description\": \"Get the current weather in a given location\",\n",
    "            \"parameters\": {\n",
    "                \"type\": \"object\",\n",
    "                \"properties\": {\n",
    "                    \"location\": {\n",
    "                        \"type\": \"string\",\n",
    "                        \"description\": \"The city and state, e.g. San Francisco, CA\",\n",
    "                    },\n",
    "                    \"days\": {\n",
    "                        \"type\": \"number\",\n",
    "                        \"description\": \"for how many days ahead you wants the forecast\",\n",
    "                    },\n",
    "                    \"unit\": {\"type\": \"string\", \"enum\": [\"celsius\", \"fahrenheit\"]},\n",
    "                },\n",
    "            },\n",
    "            \"required\": [\"location\", \"days\"],\n",
    "        }\n",
    "    ],\n",
    "    \"stream\": False,\n",
    "    \"function_call\": \"get_current_weather\",\n",
    "}\n",
    "\n",
    "# Execute the Request\n",
    "response = llama.run(api_request_json)\n",
    "print(json.dumps(response.json(), indent=2))\n"
   ]
  },
  {
   "cell_type": "markdown",
   "metadata": {},
   "source": [
    "### Questão testes"
   ]
  },
  {
   "cell_type": "code",
   "execution_count": 10,
   "metadata": {},
   "outputs": [],
   "source": [
    "questão = \"\"\"QUESTÃO 150  \n",
    "O Índice de Massa Corporal (IMC) é largamente \n",
    "utilizado há cerca de 200 anos, mas esse cálculo \n",
    "representa muito mais a corpulência que a adiposidade, \n",
    "uma vez que indivíduos musculosos e obesos podem \n",
    "apresentar o mesmo IMC. Uma nova pesquisa aponta \n",
    "o Índice de Adiposidade Corporal (IAC) como uma \n",
    "alternativa mais fidedigna para quantificar a gordura \n",
    "corporal, utilizando a medida do quadril e a altura. A \n",
    "descrição abaixo mostra como calcular essas medidas, \n",
    "sabendo-se que, em mulheres, a adiposidade normal \n",
    "está entre 19% e 26%.\n",
    "O velho IMC\n",
    "Índice de Massa Corporal (IMC) \n",
    " \n",
    "IMC = massa (kg) / [altura × altura (m)]\n",
    "O novo IAC\n",
    "Índice de Adiposidade Corporal (IAC) \n",
    " \n",
    "% de Gordura Corporal = circunferência do \n",
    "quadril (cm) / [altura (m) × raiz quadrada da altura (m)] - 18\n",
    "Uma jovem com IMC = 20 kg/m², 100 cm de circunferência \n",
    "dos quadris e 60 kg de massa corpórea resolveu \n",
    "averiguar seu IAC. Para se enquadrar aos níveis de \n",
    "normalidade de gordura corporal, a atitude adequada \n",
    "que essa jovem deve ter diante da nova medida é\n",
    "(Use 3^(1/2) = 1,7 e 1,7^(1/2) = 1,3 )\"\"\"\n",
    "\n",
    "alternativas = \"\"\"A reduzir seu excesso de gordura em cerca de 1%.\n",
    "B reduzir seu excesso de gordura em cerca de 27%.\n",
    "C manter seus níveis atuais de gordura.\n",
    "D aumentar seu nível de gordura em cerca de 1%.\n",
    "E aumentar seu nível de gordura em cerca de 27%.\"\"\""
   ]
  },
  {
   "cell_type": "code",
   "execution_count": 1,
   "metadata": {},
   "outputs": [],
   "source": [
    "questão = \"\"\"QUESTÃO 126  \n",
    "Um garoto comprou vários abacates na feira, mas \n",
    "descobriu que eles não estavam maduros o suficiente \n",
    "para serem consumidos. Sua mãe recomendou que ele \n",
    "colocasse os abacates em um recipiente fechado, pois \n",
    "isso aceleraria seu amadurecimento. Com certa dúvida, o \n",
    "garoto realizou esta experiência: colocou alguns abacates \n",
    "no recipiente e deixou os demais em uma fruteira aberta. \n",
    "Surpreendendo-se, ele percebeu que os frutos que estavam \n",
    "no recipiente fechado amadureceram mais rapidamente.\n",
    " A aceleração desse processo é causada por\"\"\"\n",
    "alternativas = \"\"\"\n",
    "A acúmulo de gás etileno.\n",
    "B redução da umidade do ar.\n",
    "C aumento da concentração de CO2.\n",
    "D diminuição da intensidade luminosa.\n",
    "E isolamento do contato com O2 atmosférico.\"\"\""
   ]
  }
 ],
 "metadata": {
  "kernelspec": {
   "display_name": "venv",
   "language": "python",
   "name": "python3"
  },
  "language_info": {
   "codemirror_mode": {
    "name": "ipython",
    "version": 3
   },
   "file_extension": ".py",
   "mimetype": "text/x-python",
   "name": "python",
   "nbconvert_exporter": "python",
   "pygments_lexer": "ipython3",
   "version": "3.11.2"
  }
 },
 "nbformat": 4,
 "nbformat_minor": 2
}
